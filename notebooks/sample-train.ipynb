{
 "cells": [
  {
   "cell_type": "code",
   "execution_count": 1,
   "metadata": {},
   "outputs": [],
   "source": [
    "import os\n",
    "os.chdir(\"..\")"
   ]
  },
  {
   "cell_type": "code",
   "execution_count": 7,
   "metadata": {},
   "outputs": [],
   "source": [
    "from torch.utils.data import DataLoader\n",
    "from torchvision.datasets import ImageFolder\n",
    "from torchvision import transforms"
   ]
  },
  {
   "cell_type": "code",
   "execution_count": 3,
   "metadata": {},
   "outputs": [],
   "source": [
    "def frame_separator(frame_path):\n",
    "    return int(frame_path.split(\"/\")[-1].split(\".\")[0].split(\"_\")[-1])\n",
    "\n",
    "class SingleVideoDataset(ImageFolder):\n",
    "    def __init__(self, root, index_slice=None, transform=None):\n",
    "        # Call parent class constructor with root directory and transform\n",
    "        super().__init__(\n",
    "            root=root,\n",
    "            transform=transform,\n",
    "            target_transform=None,\n",
    "        )\n",
    "        if index_slice is not None:\n",
    "            samples = sorted(self.samples, key= lambda x: frame_separator(x[0]))\n",
    "            self.samples = samples[index_slice[0]:index_slice[1]]\n",
    "        \n",
    "    def __getitem__(self, idx):\n",
    "        # Get the image path from parent class samples\n",
    "        path = self.samples[idx][0]\n",
    "        image = self.loader(path)\n",
    "        frame_id = frame_separator(path)\n",
    "        \n",
    "        if self.transform is not None:\n",
    "            image = self.transform(image)\n",
    "            \n",
    "        return image, frame_id"
   ]
  },
  {
   "cell_type": "code",
   "execution_count": 8,
   "metadata": {},
   "outputs": [
    {
     "name": "stdout",
     "output_type": "stream",
     "text": [
      "torch.Size([10, 3, 224, 224])\n",
      "tensor([317, 330, 356, 368, 386, 385, 334, 375, 335, 395])\n"
     ]
    }
   ],
   "source": [
    "transform = transforms.Compose([\n",
    "    transforms.Resize(224),\n",
    "    transforms.CenterCrop((224, 224)),\n",
    "    transforms.ToTensor(),\n",
    "    transforms.Normalize(mean=[0.485, 0.456, 0.406], std=[0.229, 0.224, 0.225]),\n",
    "])\n",
    "\n",
    "dataset = SingleVideoDataset(\"./data/Sintel_frames\", index_slice=(314, 424), transform=transform)\n",
    "dataloader = DataLoader(dataset=dataset, batch_size=10, shuffle=True)\n",
    "samples, frame_ids = next(iter(dataloader))\n",
    "\n",
    "print(samples.shape)\n",
    "print(frame_ids)"
   ]
  },
  {
   "cell_type": "code",
   "execution_count": null,
   "metadata": {},
   "outputs": [],
   "source": []
  }
 ],
 "metadata": {
  "kernelspec": {
   "display_name": ".venv",
   "language": "python",
   "name": "python3"
  },
  "language_info": {
   "codemirror_mode": {
    "name": "ipython",
    "version": 3
   },
   "file_extension": ".py",
   "mimetype": "text/x-python",
   "name": "python",
   "nbconvert_exporter": "python",
   "pygments_lexer": "ipython3",
   "version": "3.10.9"
  }
 },
 "nbformat": 4,
 "nbformat_minor": 2
}
